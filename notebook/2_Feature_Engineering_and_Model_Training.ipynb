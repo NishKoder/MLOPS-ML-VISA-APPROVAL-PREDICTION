{
 "cells": [
  {
   "cell_type": "markdown",
   "id": "4437a980",
   "metadata": {
    "id": "4437a980"
   },
   "source": [
    "# Data Pre-Processing"
   ]
  },
  {
   "cell_type": "markdown",
   "id": "74b4d7e0",
   "metadata": {
    "id": "74b4d7e0"
   },
   "source": [
    "#### Import Packages and CSV"
   ]
  },
  {
   "cell_type": "code",
   "execution_count": 1,
   "id": "5530cc59",
   "metadata": {
    "id": "5530cc59",
    "outputId": "5fa0529c-5adf-480a-b56f-116e14b8514e",
    "ExecuteTime": {
     "end_time": "2024-02-26T15:28:36.704543Z",
     "start_time": "2024-02-26T15:28:36.574011Z"
    }
   },
   "outputs": [
    {
     "name": "stdout",
     "output_type": "stream",
     "text": [
      "(25480, 12)\n"
     ]
    }
   ],
   "source": [
    "import pandas as pd\n",
    "import numpy as np\n",
    "import matplotlib.pyplot as plt\n",
    "import seaborn as sns\n",
    "import warnings\n",
    "warnings.filterwarnings(\"ignore\")\n",
    "pd.pandas.set_option(\"display.max_columns\", None)\n",
    "# Create Dataframe\n",
    "df = pd.read_csv(r\"Visadataset.csv\")\n",
    "# Print shape of dataset\n",
    "print(df.shape)\n",
    "print(\"–\")\n",
    "import artifact "
   ]
  },
  {
   "cell_type": "markdown",
   "id": "c27265bd",
   "metadata": {
    "id": "c27265bd"
   },
   "source": [
    "## Data Cleaning"
   ]
  },
  {
   "cell_type": "markdown",
   "id": "dbad805a",
   "metadata": {
    "id": "dbad805a"
   },
   "source": [
    "### Handling Missing values"
   ]
  },
  {
   "cell_type": "markdown",
   "id": "0a0c1c0d",
   "metadata": {
    "id": "0a0c1c0d"
   },
   "source": [
    "* Handling Missing values \n",
    "* Handling Duplicates\n",
    "* Check data type\n",
    "* Understand the dataset"
   ]
  },
  {
   "cell_type": "markdown",
   "id": "40b4a428",
   "metadata": {
    "id": "40b4a428"
   },
   "source": [
    "#### Check Null Values"
   ]
  },
  {
   "cell_type": "code",
   "execution_count": 2,
   "id": "2b94aa8f",
   "metadata": {
    "id": "2b94aa8f",
    "ExecuteTime": {
     "end_time": "2024-02-26T15:28:49.127946Z",
     "start_time": "2024-02-26T15:28:49.026906Z"
    }
   },
   "outputs": [],
   "source": [
    "##these are the features with nan value\n",
    "features_with_na=[features for features in df.columns if df[features].isnull().sum()>=1]\n",
    "for feature in features_with_na:\n",
    "    print(feature,np.round(df[feature].isnull().mean()*100,5), '% missing values')"
   ]
  },
  {
   "cell_type": "code",
   "execution_count": 3,
   "id": "f08d8e60",
   "metadata": {
    "ExecuteTime": {
     "end_time": "2024-02-26T15:28:50.804094Z",
     "start_time": "2024-02-26T15:28:50.699730Z"
    }
   },
   "outputs": [
    {
     "data": {
      "text/plain": "[]"
     },
     "execution_count": 3,
     "metadata": {},
     "output_type": "execute_result"
    }
   ],
   "source": [
    "features_with_na"
   ]
  },
  {
   "cell_type": "markdown",
   "id": "31bb11b3",
   "metadata": {
    "id": "31bb11b3"
   },
   "source": [
    "* **There are no null values in the dataset**"
   ]
  },
  {
   "cell_type": "markdown",
   "id": "76eafe12",
   "metadata": {
    "id": "76eafe12"
   },
   "source": [
    "### 3.2 Other Data Cleaning steps"
   ]
  },
  {
   "cell_type": "markdown",
   "id": "471fd48f",
   "metadata": {
    "id": "471fd48f"
   },
   "source": [
    "**Handling Duplicates**"
   ]
  },
  {
   "cell_type": "code",
   "execution_count": 4,
   "id": "d8fa17e0",
   "metadata": {
    "id": "d8fa17e0",
    "outputId": "7f1d6a37-65e2-4b4f-f201-69b9c3a80150",
    "ExecuteTime": {
     "end_time": "2024-02-26T15:28:54.018679Z",
     "start_time": "2024-02-26T15:28:53.907842Z"
    }
   },
   "outputs": [
    {
     "data": {
      "text/plain": "0"
     },
     "execution_count": 4,
     "metadata": {},
     "output_type": "execute_result"
    }
   ],
   "source": [
    "df.duplicated().sum()"
   ]
  },
  {
   "cell_type": "markdown",
   "id": "3f574d4c",
   "metadata": {
    "id": "3f574d4c"
   },
   "source": [
    "* **No Duplicates in the dataset**"
   ]
  },
  {
   "cell_type": "markdown",
   "id": "5cf6d275",
   "metadata": {
    "id": "5cf6d275"
   },
   "source": [
    "**Remove case_id from the dataset as it cannot used in Model Training**"
   ]
  },
  {
   "cell_type": "code",
   "execution_count": 5,
   "id": "828c0a89",
   "metadata": {
    "id": "828c0a89",
    "ExecuteTime": {
     "end_time": "2024-02-26T15:28:57.156663Z",
     "start_time": "2024-02-26T15:28:57.078950Z"
    }
   },
   "outputs": [],
   "source": [
    "df.drop('case_id', inplace=True, axis=1)"
   ]
  },
  {
   "cell_type": "markdown",
   "id": "6d48a184",
   "metadata": {
    "id": "6d48a184"
   },
   "source": [
    "# Feature Engineering"
   ]
  },
  {
   "cell_type": "markdown",
   "id": "8453d379",
   "metadata": {
    "id": "8453d379"
   },
   "source": [
    "## Feature Extraction"
   ]
  },
  {
   "cell_type": "code",
   "execution_count": 6,
   "id": "40ec4ef6",
   "metadata": {
    "ExecuteTime": {
     "end_time": "2024-02-26T15:29:42.889503Z",
     "start_time": "2024-02-26T15:29:42.759299Z"
    }
   },
   "outputs": [
    {
     "data": {
      "text/plain": "  continent education_of_employee has_job_experience requires_job_training  \\\n0      Asia           High School                  N                     N   \n1      Asia              Master's                  Y                     N   \n2      Asia            Bachelor's                  N                     Y   \n3      Asia            Bachelor's                  N                     N   \n4    Africa              Master's                  Y                     N   \n\n   no_of_employees  yr_of_estab region_of_employment  prevailing_wage  \\\n0            14513         2007                 West         592.2029   \n1             2412         2002            Northeast       83425.6500   \n2            44444         2008                 West      122996.8600   \n3               98         1897                 West       83434.0300   \n4             1082         2005                South      149907.3900   \n\n  unit_of_wage full_time_position case_status  \n0         Hour                  Y      Denied  \n1         Year                  Y   Certified  \n2         Year                  Y      Denied  \n3         Year                  Y      Denied  \n4         Year                  Y   Certified  ",
      "text/html": "<div>\n<style scoped>\n    .dataframe tbody tr th:only-of-type {\n        vertical-align: middle;\n    }\n\n    .dataframe tbody tr th {\n        vertical-align: top;\n    }\n\n    .dataframe thead th {\n        text-align: right;\n    }\n</style>\n<table border=\"1\" class=\"dataframe\">\n  <thead>\n    <tr style=\"text-align: right;\">\n      <th></th>\n      <th>continent</th>\n      <th>education_of_employee</th>\n      <th>has_job_experience</th>\n      <th>requires_job_training</th>\n      <th>no_of_employees</th>\n      <th>yr_of_estab</th>\n      <th>region_of_employment</th>\n      <th>prevailing_wage</th>\n      <th>unit_of_wage</th>\n      <th>full_time_position</th>\n      <th>case_status</th>\n    </tr>\n  </thead>\n  <tbody>\n    <tr>\n      <th>0</th>\n      <td>Asia</td>\n      <td>High School</td>\n      <td>N</td>\n      <td>N</td>\n      <td>14513</td>\n      <td>2007</td>\n      <td>West</td>\n      <td>592.2029</td>\n      <td>Hour</td>\n      <td>Y</td>\n      <td>Denied</td>\n    </tr>\n    <tr>\n      <th>1</th>\n      <td>Asia</td>\n      <td>Master's</td>\n      <td>Y</td>\n      <td>N</td>\n      <td>2412</td>\n      <td>2002</td>\n      <td>Northeast</td>\n      <td>83425.6500</td>\n      <td>Year</td>\n      <td>Y</td>\n      <td>Certified</td>\n    </tr>\n    <tr>\n      <th>2</th>\n      <td>Asia</td>\n      <td>Bachelor's</td>\n      <td>N</td>\n      <td>Y</td>\n      <td>44444</td>\n      <td>2008</td>\n      <td>West</td>\n      <td>122996.8600</td>\n      <td>Year</td>\n      <td>Y</td>\n      <td>Denied</td>\n    </tr>\n    <tr>\n      <th>3</th>\n      <td>Asia</td>\n      <td>Bachelor's</td>\n      <td>N</td>\n      <td>N</td>\n      <td>98</td>\n      <td>1897</td>\n      <td>West</td>\n      <td>83434.0300</td>\n      <td>Year</td>\n      <td>Y</td>\n      <td>Denied</td>\n    </tr>\n    <tr>\n      <th>4</th>\n      <td>Africa</td>\n      <td>Master's</td>\n      <td>Y</td>\n      <td>N</td>\n      <td>1082</td>\n      <td>2005</td>\n      <td>South</td>\n      <td>149907.3900</td>\n      <td>Year</td>\n      <td>Y</td>\n      <td>Certified</td>\n    </tr>\n  </tbody>\n</table>\n</div>"
     },
     "execution_count": 6,
     "metadata": {},
     "output_type": "execute_result"
    }
   ],
   "source": [
    "df.head()"
   ]
  },
  {
   "cell_type": "code",
   "execution_count": 7,
   "id": "8eac04de",
   "metadata": {
    "id": "8eac04de",
    "ExecuteTime": {
     "end_time": "2024-02-26T15:29:46.606913Z",
     "start_time": "2024-02-26T15:29:46.513114Z"
    }
   },
   "outputs": [],
   "source": [
    "# importing date class from datetime module\n",
    "from datetime import date\n",
    "  \n",
    "# creating the date object of today's date\n",
    "todays_date = date.today()\n",
    "current_year= todays_date.year"
   ]
  },
  {
   "cell_type": "code",
   "execution_count": 8,
   "id": "b9cc4d34",
   "metadata": {
    "ExecuteTime": {
     "end_time": "2024-02-26T15:29:51.994944Z",
     "start_time": "2024-02-26T15:29:51.899178Z"
    }
   },
   "outputs": [
    {
     "data": {
      "text/plain": "2024"
     },
     "execution_count": 8,
     "metadata": {},
     "output_type": "execute_result"
    }
   ],
   "source": [
    "current_year"
   ]
  },
  {
   "cell_type": "markdown",
   "id": "79bd9cbf",
   "metadata": {
    "id": "79bd9cbf"
   },
   "source": [
    "**Subtract current year with year of estab to get company's age**"
   ]
  },
  {
   "cell_type": "code",
   "execution_count": 9,
   "id": "3c193e26",
   "metadata": {
    "id": "3c193e26",
    "ExecuteTime": {
     "end_time": "2024-02-26T15:30:00.141610Z",
     "start_time": "2024-02-26T15:29:59.999416Z"
    }
   },
   "outputs": [],
   "source": [
    "df['company_age'] = current_year-df['yr_of_estab']"
   ]
  },
  {
   "cell_type": "code",
   "execution_count": 10,
   "id": "fd661e95",
   "metadata": {
    "id": "fd661e95",
    "outputId": "5221c83c-9303-43b7-e12a-8e6f46d14f15",
    "ExecuteTime": {
     "end_time": "2024-02-26T15:30:08.504201Z",
     "start_time": "2024-02-26T15:30:08.425691Z"
    }
   },
   "outputs": [
    {
     "data": {
      "text/plain": "  continent education_of_employee has_job_experience requires_job_training  \\\n0      Asia           High School                  N                     N   \n1      Asia              Master's                  Y                     N   \n2      Asia            Bachelor's                  N                     Y   \n3      Asia            Bachelor's                  N                     N   \n4    Africa              Master's                  Y                     N   \n\n   no_of_employees  yr_of_estab region_of_employment  prevailing_wage  \\\n0            14513         2007                 West         592.2029   \n1             2412         2002            Northeast       83425.6500   \n2            44444         2008                 West      122996.8600   \n3               98         1897                 West       83434.0300   \n4             1082         2005                South      149907.3900   \n\n  unit_of_wage full_time_position case_status  company_age  \n0         Hour                  Y      Denied           17  \n1         Year                  Y   Certified           22  \n2         Year                  Y      Denied           16  \n3         Year                  Y      Denied          127  \n4         Year                  Y   Certified           19  ",
      "text/html": "<div>\n<style scoped>\n    .dataframe tbody tr th:only-of-type {\n        vertical-align: middle;\n    }\n\n    .dataframe tbody tr th {\n        vertical-align: top;\n    }\n\n    .dataframe thead th {\n        text-align: right;\n    }\n</style>\n<table border=\"1\" class=\"dataframe\">\n  <thead>\n    <tr style=\"text-align: right;\">\n      <th></th>\n      <th>continent</th>\n      <th>education_of_employee</th>\n      <th>has_job_experience</th>\n      <th>requires_job_training</th>\n      <th>no_of_employees</th>\n      <th>yr_of_estab</th>\n      <th>region_of_employment</th>\n      <th>prevailing_wage</th>\n      <th>unit_of_wage</th>\n      <th>full_time_position</th>\n      <th>case_status</th>\n      <th>company_age</th>\n    </tr>\n  </thead>\n  <tbody>\n    <tr>\n      <th>0</th>\n      <td>Asia</td>\n      <td>High School</td>\n      <td>N</td>\n      <td>N</td>\n      <td>14513</td>\n      <td>2007</td>\n      <td>West</td>\n      <td>592.2029</td>\n      <td>Hour</td>\n      <td>Y</td>\n      <td>Denied</td>\n      <td>17</td>\n    </tr>\n    <tr>\n      <th>1</th>\n      <td>Asia</td>\n      <td>Master's</td>\n      <td>Y</td>\n      <td>N</td>\n      <td>2412</td>\n      <td>2002</td>\n      <td>Northeast</td>\n      <td>83425.6500</td>\n      <td>Year</td>\n      <td>Y</td>\n      <td>Certified</td>\n      <td>22</td>\n    </tr>\n    <tr>\n      <th>2</th>\n      <td>Asia</td>\n      <td>Bachelor's</td>\n      <td>N</td>\n      <td>Y</td>\n      <td>44444</td>\n      <td>2008</td>\n      <td>West</td>\n      <td>122996.8600</td>\n      <td>Year</td>\n      <td>Y</td>\n      <td>Denied</td>\n      <td>16</td>\n    </tr>\n    <tr>\n      <th>3</th>\n      <td>Asia</td>\n      <td>Bachelor's</td>\n      <td>N</td>\n      <td>N</td>\n      <td>98</td>\n      <td>1897</td>\n      <td>West</td>\n      <td>83434.0300</td>\n      <td>Year</td>\n      <td>Y</td>\n      <td>Denied</td>\n      <td>127</td>\n    </tr>\n    <tr>\n      <th>4</th>\n      <td>Africa</td>\n      <td>Master's</td>\n      <td>Y</td>\n      <td>N</td>\n      <td>1082</td>\n      <td>2005</td>\n      <td>South</td>\n      <td>149907.3900</td>\n      <td>Year</td>\n      <td>Y</td>\n      <td>Certified</td>\n      <td>19</td>\n    </tr>\n  </tbody>\n</table>\n</div>"
     },
     "execution_count": 10,
     "metadata": {},
     "output_type": "execute_result"
    }
   ],
   "source": [
    "df.head()"
   ]
  },
  {
   "cell_type": "code",
   "execution_count": 11,
   "id": "2cc2b5c1",
   "metadata": {
    "id": "2cc2b5c1",
    "ExecuteTime": {
     "end_time": "2024-02-26T15:30:13.606226Z",
     "start_time": "2024-02-26T15:30:13.468624Z"
    }
   },
   "outputs": [],
   "source": [
    "df.drop('yr_of_estab', inplace=True, axis=1)"
   ]
  },
  {
   "cell_type": "markdown",
   "id": "66542de1",
   "metadata": {
    "id": "66542de1"
   },
   "source": [
    "### Type of Features"
   ]
  },
  {
   "cell_type": "markdown",
   "id": "85df52e5",
   "metadata": {
    "id": "85df52e5"
   },
   "source": [
    "**Numeric Features**"
   ]
  },
  {
   "cell_type": "code",
   "execution_count": 12,
   "id": "d48aeaa4",
   "metadata": {
    "id": "d48aeaa4",
    "outputId": "3472d509-3613-408a-b2e0-7e04e3ba694a",
    "ExecuteTime": {
     "end_time": "2024-02-26T15:30:15.457753Z",
     "start_time": "2024-02-26T15:30:15.365406Z"
    }
   },
   "outputs": [
    {
     "name": "stdout",
     "output_type": "stream",
     "text": [
      "Num of Numerical Features : 3\n"
     ]
    }
   ],
   "source": [
    "num_features = [feature for feature in df.columns if df[feature].dtype != 'O']\n",
    "print('Num of Numerical Features :', len(num_features))"
   ]
  },
  {
   "cell_type": "markdown",
   "id": "e1107060",
   "metadata": {
    "id": "e1107060"
   },
   "source": [
    "**Categorical Features**"
   ]
  },
  {
   "cell_type": "code",
   "execution_count": 13,
   "id": "ff997805",
   "metadata": {
    "id": "ff997805",
    "outputId": "3dd63e00-7af0-48de-d7bb-5d1f51c557de",
    "ExecuteTime": {
     "end_time": "2024-02-26T15:30:16.406087Z",
     "start_time": "2024-02-26T15:30:16.328243Z"
    }
   },
   "outputs": [
    {
     "name": "stdout",
     "output_type": "stream",
     "text": [
      "Num of Categorical Features : 8\n"
     ]
    }
   ],
   "source": [
    "cat_features = [feature for feature in df.columns if df[feature].dtype == 'O']\n",
    "print('Num of Categorical Features :', len(cat_features))"
   ]
  },
  {
   "cell_type": "markdown",
   "id": "9bc032f9",
   "metadata": {
    "id": "9bc032f9"
   },
   "source": [
    "**Discrete features**"
   ]
  },
  {
   "cell_type": "code",
   "execution_count": 14,
   "id": "812ee6e0",
   "metadata": {
    "id": "812ee6e0",
    "outputId": "0181bd9a-5f2b-4292-8a57-d9c683d2e128",
    "ExecuteTime": {
     "end_time": "2024-02-26T15:30:19.463563Z",
     "start_time": "2024-02-26T15:30:19.386039Z"
    }
   },
   "outputs": [
    {
     "name": "stdout",
     "output_type": "stream",
     "text": [
      "Num of Discrete Features : 0\n"
     ]
    }
   ],
   "source": [
    "discrete_features=[feature for feature in num_features if len(df[feature].unique())<=25]\n",
    "print('Num of Discrete Features :',len(discrete_features))"
   ]
  },
  {
   "cell_type": "markdown",
   "id": "3e6740bf",
   "metadata": {
    "id": "3e6740bf"
   },
   "source": [
    "**Continues Features**"
   ]
  },
  {
   "cell_type": "code",
   "execution_count": 15,
   "id": "e501c72b",
   "metadata": {
    "id": "e501c72b",
    "outputId": "c10010b4-eb51-406e-afc4-464894031222",
    "ExecuteTime": {
     "end_time": "2024-02-26T15:30:21.206147Z",
     "start_time": "2024-02-26T15:30:21.074827Z"
    }
   },
   "outputs": [
    {
     "name": "stdout",
     "output_type": "stream",
     "text": [
      "Num of Continuous Features : 3\n"
     ]
    }
   ],
   "source": [
    "continuous_features=[feature for feature in num_features if feature not in discrete_features]\n",
    "print('Num of Continuous Features :',len(continuous_features))"
   ]
  },
  {
   "cell_type": "markdown",
   "id": "5a2cf140",
   "metadata": {
    "id": "5a2cf140"
   },
   "source": [
    "### Split X and Y"
   ]
  },
  {
   "cell_type": "markdown",
   "id": "9455c01a",
   "metadata": {
    "id": "9455c01a"
   },
   "source": [
    "* **Split Dataframe to X and y**\n",
    "* **Here we set a variable X i.e, independent columns, and a variable y i.e, dependent column as the “Case_Status” column.**\n"
   ]
  },
  {
   "cell_type": "code",
   "execution_count": 16,
   "id": "4434aa31",
   "metadata": {
    "id": "4434aa31",
    "ExecuteTime": {
     "end_time": "2024-02-26T15:30:40.203163Z",
     "start_time": "2024-02-26T15:30:40.105868Z"
    }
   },
   "outputs": [],
   "source": [
    "X = df.drop('case_status', axis=1)\n",
    "y = df['case_status']"
   ]
  },
  {
   "cell_type": "code",
   "execution_count": 17,
   "id": "67a428d4",
   "metadata": {
    "ExecuteTime": {
     "end_time": "2024-02-26T15:30:41.418237Z",
     "start_time": "2024-02-26T15:30:41.266126Z"
    }
   },
   "outputs": [
    {
     "data": {
      "text/plain": "0       Denied\n1    Certified\n2       Denied\n3       Denied\n4    Certified\nName: case_status, dtype: object"
     },
     "execution_count": 17,
     "metadata": {},
     "output_type": "execute_result"
    }
   ],
   "source": [
    "y.head()"
   ]
  },
  {
   "cell_type": "markdown",
   "id": "f2260600",
   "metadata": {
    "id": "f2260600"
   },
   "source": [
    "**Manual encoding target column**"
   ]
  },
  {
   "cell_type": "code",
   "execution_count": 18,
   "id": "7a9d7c95",
   "metadata": {
    "id": "7a9d7c95",
    "ExecuteTime": {
     "end_time": "2024-02-26T15:30:51.786788Z",
     "start_time": "2024-02-26T15:30:51.614778Z"
    }
   },
   "outputs": [],
   "source": [
    "# If the target column has Denied it is encoded as 1 others as 0\n",
    "y= np.where(y=='Denied', 1,0)"
   ]
  },
  {
   "cell_type": "code",
   "execution_count": 19,
   "id": "398fad76",
   "metadata": {
    "ExecuteTime": {
     "end_time": "2024-02-26T15:30:52.352384Z",
     "start_time": "2024-02-26T15:30:52.159744Z"
    }
   },
   "outputs": [
    {
     "data": {
      "text/plain": "array([1, 0, 1, ..., 0, 0, 0])"
     },
     "execution_count": 19,
     "metadata": {},
     "output_type": "execute_result"
    }
   ],
   "source": [
    "y"
   ]
  },
  {
   "cell_type": "markdown",
   "id": "ca2d817d",
   "metadata": {
    "id": "ca2d817d"
   },
   "source": [
    "## Feature Transformation"
   ]
  },
  {
   "cell_type": "code",
   "execution_count": 20,
   "id": "a921c3a0",
   "metadata": {
    "id": "a921c3a0",
    "outputId": "84d46867-1130-41fc-9dca-e5087fccb83d",
    "scrolled": false,
    "ExecuteTime": {
     "end_time": "2024-02-26T15:31:40.758809Z",
     "start_time": "2024-02-26T15:31:15.331719Z"
    }
   },
   "outputs": [
    {
     "data": {
      "text/plain": "<Figure size 1200x600 with 3 Axes>",
      "image/png": "[encoded data removed]"
     },
     "metadata": {},
     "output_type": "display_data"
    }
   ],
   "source": [
    "# distribution of data before scaling\n",
    "plt.figure(figsize=(12, 6))\n",
    "for i, col in enumerate(['no_of_employees','prevailing_wage','company_age']):\n",
    "    plt.subplot(2, 2, i+1)\n",
    "    sns.histplot(x=X[col], color='indianred')\n",
    "    plt.xlabel(col)\n",
    "    plt.tight_layout()"
   ]
  },
  {
   "cell_type": "markdown",
   "id": "993fca30",
   "metadata": {
    "id": "993fca30"
   },
   "source": [
    "* No of employees and Copmany age column is skewed\n",
    "* Apply a power transform featurewise to make data more Gaussian-like.\n",
    "\n",
    "Power transforms are a family of parametric, monotonic transformations that are applied to make data more Gaussian-like. This is useful for modeling issues related to heteroscedasticity (non-constant variance), or other situations where normality is desired.\n",
    "\n",
    "Currently, PowerTransformer supports the Box-Cox transform and the Yeo-Johnson transform."
   ]
  },
  {
   "cell_type": "markdown",
   "id": "a890a255",
   "metadata": {
    "id": "a890a255"
   },
   "source": [
    "**Checking Skewness**"
   ]
  },
  {
   "cell_type": "markdown",
   "id": "ca6ac67f",
   "metadata": {
    "id": "ca6ac67f"
   },
   "source": [
    "**What is Skewness ?**\n",
    "\n",
    "* Skewness refers to a distortion or asymmetry that deviates from the symmetrical bell curve, or normal distribution, in a set of data. If the curve is shifted to the left or to the right, it is said to be skewed. Skewness can be quantified as a representation of the extent to which a given distribution varies from a normal distribution. A normal distribution has a skew of zero"
   ]
  },
  {
   "cell_type": "code",
   "execution_count": 21,
   "id": "4038a207",
   "metadata": {
    "id": "4038a207",
    "outputId": "51497045-4d93-46f8-ea18-47d742680845",
    "ExecuteTime": {
     "end_time": "2024-02-26T15:32:02.661998Z",
     "start_time": "2024-02-26T15:32:02.553496Z"
    }
   },
   "outputs": [
    {
     "data": {
      "text/plain": "no_of_employees    12.265260\nprevailing_wage     0.755776\ncompany_age         2.037301\ndtype: float64"
     },
     "execution_count": 21,
     "metadata": {},
     "output_type": "execute_result"
    }
   ],
   "source": [
    "# Check Skewness\n",
    "X[continuous_features].skew(axis=0, skipna=True)"
   ]
  },
  {
   "cell_type": "markdown",
   "id": "1786c0ad",
   "metadata": {
    "id": "1786c0ad"
   },
   "source": [
    "- Positiviely Skewed : company_age, no_of_employees.\n",
    "- We can handle outliers and then check the skewness."
   ]
  },
  {
   "cell_type": "markdown",
   "id": "96c39509",
   "metadata": {
    "id": "96c39509"
   },
   "source": [
    "## Apply Power Transformer to Check if it can reduces the outliers"
   ]
  },
  {
   "cell_type": "code",
   "execution_count": 22,
   "id": "56ad9567",
   "metadata": {
    "id": "56ad9567",
    "ExecuteTime": {
     "end_time": "2024-02-26T15:32:14.686943Z",
     "start_time": "2024-02-26T15:32:13.752075Z"
    }
   },
   "outputs": [],
   "source": [
    "from sklearn.preprocessing import PowerTransformer\n",
    "pt = PowerTransformer(method='yeo-johnson')\n",
    "transform_features = ['company_age', 'no_of_employees']\n",
    "X_copy = pt.fit_transform(X[transform_features])"
   ]
  },
  {
   "cell_type": "code",
   "execution_count": 23,
   "id": "255b1c5e",
   "metadata": {
    "id": "255b1c5e",
    "ExecuteTime": {
     "end_time": "2024-02-26T15:32:16.034135Z",
     "start_time": "2024-02-26T15:32:15.964573Z"
    }
   },
   "outputs": [],
   "source": [
    "X_copy = pd.DataFrame(X_copy, columns=transform_features)"
   ]
  },
  {
   "cell_type": "code",
   "execution_count": 24,
   "id": "b49bad36",
   "metadata": {
    "id": "b49bad36",
    "outputId": "d732f372-b0f2-4bed-9f4d-394d46891abb",
    "ExecuteTime": {
     "end_time": "2024-02-26T15:32:27.327852Z",
     "start_time": "2024-02-26T15:32:18.413523Z"
    }
   },
   "outputs": [
    {
     "data": {
      "text/plain": "<Figure size 1200x500 with 2 Axes>",
      "image/png": "[encoded data removed]"
     },
     "metadata": {},
     "output_type": "display_data"
    }
   ],
   "source": [
    "plt.figure(figsize=(12, 5))\n",
    "for i, col in enumerate(transform_features):\n",
    "    plt.subplot(1, 2, i+1)\n",
    "    sns.histplot(x=X_copy[col], color='indianred')\n",
    "    plt.xlabel(col)\n",
    "    plt.tight_layout()"
   ]
  },
  {
   "cell_type": "markdown",
   "id": "bb26baf6",
   "metadata": {
    "id": "bb26baf6"
   },
   "source": [
    "**Checking Skewness**"
   ]
  },
  {
   "cell_type": "code",
   "execution_count": 25,
   "id": "4c9a232a",
   "metadata": {
    "id": "4c9a232a",
    "outputId": "1ef33497-82c9-42b1-d17d-c62b5c5049ad",
    "ExecuteTime": {
     "end_time": "2024-02-26T15:32:37.239108Z",
     "start_time": "2024-02-26T15:32:37.162079Z"
    }
   },
   "outputs": [
    {
     "data": {
      "text/plain": "company_age        0.103264\nno_of_employees    0.399339\ndtype: float64"
     },
     "execution_count": 25,
     "metadata": {},
     "output_type": "execute_result"
    }
   ],
   "source": [
    "X_copy.skew(axis=0, skipna=True)"
   ]
  },
  {
   "cell_type": "markdown",
   "id": "69c717fc",
   "metadata": {
    "id": "69c717fc"
   },
   "source": [
    "- Here Yeo-Johnson is used and it supports both positive or negative data for transformation.\n",
    "- So Power Transformer with yeo-johnson can be used."
   ]
  },
  {
   "cell_type": "code",
   "execution_count": 26,
   "id": "7740ff27",
   "metadata": {
    "id": "7740ff27",
    "outputId": "76d06e1f-cc70-41fa-91e2-6b99a2683eb4",
    "ExecuteTime": {
     "end_time": "2024-02-26T15:32:42.675968Z",
     "start_time": "2024-02-26T15:32:42.561204Z"
    }
   },
   "outputs": [
    {
     "name": "stdout",
     "output_type": "stream",
     "text": [
      "continent : 6\n",
      "education_of_employee : 4\n",
      "has_job_experience : 2\n",
      "requires_job_training : 2\n",
      "region_of_employment : 5\n",
      "unit_of_wage : 4\n",
      "full_time_position : 2\n",
      "case_status : 2\n"
     ]
    }
   ],
   "source": [
    "for feature in cat_features:\n",
    "    print(feature,':', df[feature].nunique())"
   ]
  },
  {
   "cell_type": "markdown",
   "id": "51a3853d",
   "metadata": {
    "id": "51a3853d"
   },
   "source": [
    "## Feature Encoding and Scaling"
   ]
  },
  {
   "cell_type": "markdown",
   "id": "29dbaf2d",
   "metadata": {
    "id": "29dbaf2d"
   },
   "source": [
    " **One Hot Encoding for Columns which had lesser unique values and not ordinal**\n",
    "* One hot encoding is a process by which categorical variables are converted into a form that could be provided to ML algorithms to do a better job in prediction.\n",
    "\n",
    "**Ordinal Encoding for Columns which has many unique categories** \n",
    "* Ordinal encoding is used here as label encoder is supported for column transformer.\n",
    "* Ordinal encoding is used for Ordinal Variable. Variable comprises a finite set of discrete values with a ranked ordering between values.\n",
    "\n",
    "**Standard Scaler** \n",
    "* Standardize features by removing the mean and scaling to unit variance.\n",
    "\n",
    "**Power Transformer**\n",
    "* Power transforms are a technique for transforming numerical input or output variables to have a Gaussian or more-Gaussian-like probability distribution."
   ]
  },
  {
   "cell_type": "markdown",
   "id": "e245a3af",
   "metadata": {
    "id": "e245a3af"
   },
   "source": [
    "**Selecting number features for preprocessing**"
   ]
  },
  {
   "cell_type": "code",
   "execution_count": 27,
   "id": "ef40892b",
   "metadata": {
    "id": "ef40892b",
    "ExecuteTime": {
     "end_time": "2024-02-26T15:33:06.422892Z",
     "start_time": "2024-02-26T15:33:06.358883Z"
    }
   },
   "outputs": [],
   "source": [
    "num_features = list(X.select_dtypes(exclude=\"object\").columns)"
   ]
  },
  {
   "cell_type": "code",
   "execution_count": 28,
   "id": "5321209d",
   "metadata": {
    "ExecuteTime": {
     "end_time": "2024-02-26T15:33:07.456769Z",
     "start_time": "2024-02-26T15:33:07.399629Z"
    }
   },
   "outputs": [
    {
     "data": {
      "text/plain": "['no_of_employees', 'prevailing_wage', 'company_age']"
     },
     "execution_count": 28,
     "metadata": {},
     "output_type": "execute_result"
    }
   ],
   "source": [
    "num_features"
   ]
  },
  {
   "cell_type": "markdown",
   "id": "2bccb0bc",
   "metadata": {
    "id": "2bccb0bc"
   },
   "source": [
    "### **Preprocessing using Column Transformer**"
   ]
  },
  {
   "cell_type": "code",
   "execution_count": 29,
   "id": "e9a2c9b5",
   "metadata": {
    "id": "e9a2c9b5",
    "ExecuteTime": {
     "end_time": "2024-02-26T15:34:05.352898Z",
     "start_time": "2024-02-26T15:34:05.254426Z"
    }
   },
   "outputs": [],
   "source": [
    "# Create Column Transformer with 3 types of transformers\n",
    "or_columns = ['has_job_experience','requires_job_training','full_time_position','education_of_employee']\n",
    "oh_columns = ['continent','unit_of_wage','region_of_employment']\n",
    "transform_columns= ['no_of_employees','company_age']\n",
    "\n",
    "from sklearn.preprocessing import OneHotEncoder, StandardScaler,OrdinalEncoder, PowerTransformer\n",
    "from sklearn.compose import ColumnTransformer \n",
    "from sklearn.pipeline import Pipeline\n",
    "\n",
    "numeric_transformer = StandardScaler()\n",
    "oh_transformer = OneHotEncoder()\n",
    "ordinal_encoder = OrdinalEncoder()\n",
    "\n",
    "transform_pipe = Pipeline(steps=[\n",
    "    ('transformer', PowerTransformer(method='yeo-johnson'))\n",
    "])\n",
    "\n",
    "preprocessor = ColumnTransformer(\n",
    "    [\n",
    "        (\"OneHotEncoder\", oh_transformer, oh_columns),\n",
    "        (\"Ordinal_Encoder\", ordinal_encoder, or_columns),\n",
    "        (\"Transformer\", transform_pipe, transform_columns),\n",
    "        (\"StandardScaler\", numeric_transformer, num_features)\n",
    "    ]\n",
    ")"
   ]
  },
  {
   "cell_type": "code",
   "execution_count": 30,
   "id": "328d041f",
   "metadata": {
    "id": "328d041f",
    "ExecuteTime": {
     "end_time": "2024-02-26T15:34:17.814518Z",
     "start_time": "2024-02-26T15:34:17.537892Z"
    }
   },
   "outputs": [],
   "source": [
    "X = preprocessor.fit_transform(X)"
   ]
  },
  {
   "cell_type": "code",
   "execution_count": 31,
   "id": "d791f12e",
   "metadata": {
    "ExecuteTime": {
     "end_time": "2024-02-26T15:38:12.020946Z",
     "start_time": "2024-02-26T15:38:11.633730Z"
    }
   },
   "outputs": [
    {
     "data": {
      "text/plain": "array([[ 0.        ,  1.        ,  0.        , ...,  0.38666657,\n        -1.39853722, -0.65122993],\n       [ 0.        ,  1.        ,  0.        , ..., -0.14228155,\n         0.1698353 , -0.53321103],\n       [ 0.        ,  1.        ,  0.        , ...,  1.69498375,\n         0.91907852, -0.6748337 ],\n       ...,\n       [ 0.        ,  1.        ,  0.        , ..., -0.19871259,\n         1.36027953,  1.63833662],\n       [ 0.        ,  1.        ,  0.        , ..., -0.16387483,\n         0.22150859,  2.18122353],\n       [ 0.        ,  1.        ,  0.        , ..., -0.10805575,\n        -0.06776315,  0.45814768]])"
     },
     "execution_count": 31,
     "metadata": {},
     "output_type": "execute_result"
    }
   ],
   "source": [
    "X"
   ]
  },
  {
   "cell_type": "markdown",
   "id": "8b08df30",
   "metadata": {
    "id": "8b08df30"
   },
   "source": [
    "# Classification"
   ]
  },
  {
   "cell_type": "code",
   "execution_count": 33,
   "id": "6688f6fb",
   "metadata": {
    "id": "6688f6fb",
    "ExecuteTime": {
     "end_time": "2024-02-26T15:40:53.010071Z",
     "start_time": "2024-02-26T15:40:40.367029Z"
    }
   },
   "outputs": [],
   "source": [
    "from imblearn.combine import SMOTETomek, SMOTEENN\n",
    "\n",
    "# Resampling the minority class. The strategy can be changed as required.\n",
    "smt = SMOTEENN(random_state=42,sampling_strategy='minority' )\n",
    "# Fit the model to generate the data.\n",
    "X_res, y_res = smt.fit_resample(X, y)"
   ]
  },
  {
   "cell_type": "markdown",
   "id": "8a2c0485",
   "metadata": {
    "id": "8a2c0485"
   },
   "source": [
    "## Train Test Split\n",
    "- The train-test split procedure is used to estimate the performance of machine learning algorithms when they are used to make predictions on data not used to train the model.\n",
    "\n",
    "- It is a fast and easy procedure to perform, the results of which allow you to compare the performance of machine learning algorithms."
   ]
  },
  {
   "cell_type": "code",
   "execution_count": 34,
   "id": "e0f5858e",
   "metadata": {
    "id": "e0f5858e",
    "outputId": "d91dcb53-e0ae-4571-ef70-745f4c2ed1a2",
    "ExecuteTime": {
     "end_time": "2024-02-26T15:40:53.013360Z",
     "start_time": "2024-02-26T15:40:52.958481Z"
    }
   },
   "outputs": [
    {
     "data": {
      "text/plain": "((13638, 24), (3410, 24))"
     },
     "execution_count": 34,
     "metadata": {},
     "output_type": "execute_result"
    }
   ],
   "source": [
    "from sklearn.model_selection import  train_test_split\n",
    "# separate dataset into train and test\n",
    "X_train, X_test, y_train, y_test = train_test_split(X_res,y_res,test_size=0.2,random_state=42)\n",
    "X_train.shape, X_test.shape"
   ]
  },
  {
   "cell_type": "code",
   "execution_count": 35,
   "id": "4cdb60f1",
   "metadata": {
    "id": "4cdb60f1",
    "ExecuteTime": {
     "end_time": "2024-02-26T15:41:08.229960Z",
     "start_time": "2024-02-26T15:41:07.977369Z"
    }
   },
   "outputs": [],
   "source": [
    "from sklearn.ensemble import RandomForestClassifier, AdaBoostClassifier, GradientBoostingClassifier\n",
    "from sklearn.linear_model import LogisticRegression\n",
    "from sklearn.neighbors import KNeighborsClassifier\n",
    "from sklearn.tree import DecisionTreeClassifier\n",
    "from sklearn.svm import SVC\n",
    "from sklearn.metrics import accuracy_score, classification_report,ConfusionMatrixDisplay, \\\n",
    "                            precision_score, recall_score, f1_score, roc_auc_score,roc_curve \n",
    "from xgboost import XGBClassifier\n",
    "from catboost import CatBoostClassifier"
   ]
  },
  {
   "cell_type": "code",
   "execution_count": 36,
   "id": "b4da40e7",
   "metadata": {
    "id": "b4da40e7",
    "ExecuteTime": {
     "end_time": "2024-02-26T15:41:18.820183Z",
     "start_time": "2024-02-26T15:41:18.675409Z"
    }
   },
   "outputs": [],
   "source": [
    "def evaluate_clf(true, predicted):\n",
    "    acc = accuracy_score(true, predicted) # Calculate Accuracy\n",
    "    f1 = f1_score(true, predicted) # Calculate F1-score\n",
    "    precision = precision_score(true, predicted) # Calculate Precision\n",
    "    recall = recall_score(true, predicted)  # Calculate Recall\n",
    "    roc_auc = roc_auc_score(true, predicted) #Calculate Roc\n",
    "    return acc, f1 , precision, recall, roc_auc"
   ]
  },
  {
   "cell_type": "code",
   "execution_count": 37,
   "id": "91cebd1a",
   "metadata": {
    "id": "91cebd1a",
    "scrolled": false,
    "ExecuteTime": {
     "end_time": "2024-02-26T15:41:24.170235Z",
     "start_time": "2024-02-26T15:41:24.097832Z"
    }
   },
   "outputs": [],
   "source": [
    "models = {\n",
    "    \"Random Forest\": RandomForestClassifier(),\n",
    "    \"Decision Tree\": DecisionTreeClassifier(),\n",
    "    \"Gradient Boosting\": GradientBoostingClassifier(),\n",
    "    \"Logistic Regression\": LogisticRegression(),\n",
    "     \"K-Neighbors Classifier\": KNeighborsClassifier(),\n",
    "    \"XGBClassifier\": XGBClassifier(), \n",
    "     \"CatBoosting Classifier\": CatBoostClassifier(verbose=False),\n",
    "     \"Support Vector Classifier\": SVC(),\n",
    "    \"AdaBoost Classifier\": AdaBoostClassifier()\n",
    "}"
   ]
  },
  {
   "cell_type": "code",
   "execution_count": 38,
   "id": "9aa69756",
   "metadata": {
    "id": "9aa69756",
    "ExecuteTime": {
     "end_time": "2024-02-26T15:41:26.470586Z",
     "start_time": "2024-02-26T15:41:26.440253Z"
    }
   },
   "outputs": [],
   "source": [
    "# Create a function which can evaluate models and return a report \n",
    "def evaluate_models(X, y, models):\n",
    "    '''\n",
    "    This function takes in X and y and models dictionary as input\n",
    "    It splits the data into Train Test split\n",
    "    Iterates through the given model dictionary and evaluates the metrics\n",
    "    Returns: Dataframe which contains report of all models metrics with cost\n",
    "    '''\n",
    "    # separate dataset into train and test\n",
    "    X_train, X_test, y_train, y_test = train_test_split(X,y,test_size=0.2,random_state=42)\n",
    "    \n",
    "    models_list = []\n",
    "    accuracy_list = []\n",
    "    auc= []\n",
    "    \n",
    "    for i in range(len(list(models))):\n",
    "        model = list(models.values())[i]\n",
    "        model.fit(X_train, y_train) # Train model\n",
    "\n",
    "        # Make predictions\n",
    "        y_train_pred = model.predict(X_train)\n",
    "        y_test_pred = model.predict(X_test)\n",
    "\n",
    "        # Training set performance\n",
    "        model_train_accuracy, model_train_f1,model_train_precision,\\\n",
    "        model_train_recall,model_train_rocauc_score=evaluate_clf(y_train ,y_train_pred)\n",
    "\n",
    "\n",
    "        # Test set performance\n",
    "        model_test_accuracy,model_test_f1,model_test_precision,\\\n",
    "        model_test_recall,model_test_rocauc_score=evaluate_clf(y_test, y_test_pred)\n",
    "\n",
    "        print(list(models.keys())[i])\n",
    "        models_list.append(list(models.keys())[i])\n",
    "\n",
    "        print('Model performance for Training set')\n",
    "        print(\"- Accuracy: {:.4f}\".format(model_train_accuracy))\n",
    "        print('- F1 score: {:.4f}'.format(model_train_f1)) \n",
    "        print('- Precision: {:.4f}'.format(model_train_precision))\n",
    "        print('- Recall: {:.4f}'.format(model_train_recall))\n",
    "        print('- Roc Auc Score: {:.4f}'.format(model_train_rocauc_score))\n",
    "\n",
    "        print('----------------------------------')\n",
    "\n",
    "        print('Model performance for Test set')\n",
    "        print('- Accuracy: {:.4f}'.format(model_test_accuracy))\n",
    "        accuracy_list.append(model_test_accuracy)\n",
    "        print('- F1 score: {:.4f}'.format(model_test_f1))\n",
    "        print('- Precision: {:.4f}'.format(model_test_precision))\n",
    "        print('- Recall: {:.4f}'.format(model_test_recall))\n",
    "        print('- Roc Auc Score: {:.4f}'.format(model_test_rocauc_score))\n",
    "        auc.append(model_test_rocauc_score)\n",
    "        print('='*35)\n",
    "        print('\\n')\n",
    "        \n",
    "    report=pd.DataFrame(list(zip(models_list, accuracy_list)), columns=['Model Name', 'Accuracy']).sort_values(by=['Accuracy'], ascending=False)\n",
    "        \n",
    "    return report"
   ]
  },
  {
   "cell_type": "markdown",
   "id": "0e010280",
   "metadata": {
    "id": "0e010280"
   },
   "source": [
    "## Model Training "
   ]
  },
  {
   "cell_type": "code",
   "execution_count": 40,
   "id": "b08c217d",
   "metadata": {
    "id": "b08c217d",
    "outputId": "f8290c30-975a-4e44-80bd-9e120036e956",
    "scrolled": false,
    "ExecuteTime": {
     "end_time": "2024-02-26T15:44:15.201226Z",
     "start_time": "2024-02-26T15:43:14.016744Z"
    }
   },
   "outputs": [
    {
     "name": "stdout",
     "output_type": "stream",
     "text": [
      "Random Forest\n",
      "Model performance for Training set\n",
      "- Accuracy: 1.0000\n",
      "- F1 score: 1.0000\n",
      "- Precision: 1.0000\n",
      "- Recall: 1.0000\n",
      "- Roc Auc Score: 1.0000\n",
      "----------------------------------\n",
      "Model performance for Test set\n",
      "- Accuracy: 0.9540\n",
      "- F1 score: 0.9576\n",
      "- Precision: 0.9558\n",
      "- Recall: 0.9594\n",
      "- Roc Auc Score: 0.9535\n",
      "===================================\n",
      "\n",
      "Decision Tree\n",
      "Model performance for Training set\n",
      "- Accuracy: 1.0000\n",
      "- F1 score: 1.0000\n",
      "- Precision: 1.0000\n",
      "- Recall: 1.0000\n",
      "- Roc Auc Score: 1.0000\n",
      "----------------------------------\n",
      "Model performance for Test set\n",
      "- Accuracy: 0.9293\n",
      "- F1 score: 0.9351\n",
      "- Precision: 0.9318\n",
      "- Recall: 0.9383\n",
      "- Roc Auc Score: 0.9285\n",
      "===================================\n",
      "\n",
      "Gradient Boosting\n",
      "Model performance for Training set\n",
      "- Accuracy: 0.8822\n",
      "- F1 score: 0.8903\n",
      "- Precision: 0.8945\n",
      "- Recall: 0.8862\n",
      "- Roc Auc Score: 0.8819\n",
      "----------------------------------\n",
      "Model performance for Test set\n",
      "- Accuracy: 0.8956\n",
      "- F1 score: 0.9031\n",
      "- Precision: 0.9095\n",
      "- Recall: 0.8967\n",
      "- Roc Auc Score: 0.8955\n",
      "===================================\n",
      "\n",
      "\n",
      "Logistic Regression\n",
      "Model performance for Training set\n",
      "- Accuracy: 0.7348\n",
      "- F1 score: 0.7499\n",
      "- Precision: 0.7628\n",
      "- Recall: 0.7376\n",
      "- Roc Auc Score: 0.7345\n",
      "----------------------------------\n",
      "Model performance for Test set\n",
      "- Accuracy: 0.7452\n",
      "- F1 score: 0.7592\n",
      "- Precision: 0.7784\n",
      "- Recall: 0.7409\n",
      "- Roc Auc Score: 0.7456\n",
      "===================================\n",
      "\n",
      "K-Neighbors Classifier\n",
      "Model performance for Training set\n",
      "- Accuracy: 0.9636\n",
      "- F1 score: 0.9667\n",
      "- Precision: 0.9553\n",
      "- Recall: 0.9784\n",
      "- Roc Auc Score: 0.9624\n",
      "----------------------------------\n",
      "Model performance for Test set\n",
      "- Accuracy: 0.9402\n",
      "- F1 score: 0.9457\n",
      "- Precision: 0.9318\n",
      "- Recall: 0.9600\n",
      "- Roc Auc Score: 0.9383\n",
      "===================================\n",
      "\n",
      "XGBClassifier\n",
      "Model performance for Training set\n",
      "- Accuracy: 0.9809\n",
      "- F1 score: 0.9823\n",
      "- Precision: 0.9825\n",
      "- Recall: 0.9821\n",
      "- Roc Auc Score: 0.9808\n",
      "----------------------------------\n",
      "Model performance for Test set\n",
      "- Accuracy: 0.9352\n",
      "- F1 score: 0.9400\n",
      "- Precision: 0.9443\n",
      "- Recall: 0.9356\n",
      "- Roc Auc Score: 0.9351\n",
      "===================================\n",
      "\n",
      "CatBoosting Classifier\n",
      "Model performance for Training set\n",
      "- Accuracy: 0.9527\n",
      "- F1 score: 0.9559\n",
      "- Precision: 0.9614\n",
      "- Recall: 0.9505\n",
      "- Roc Auc Score: 0.9529\n",
      "----------------------------------\n",
      "Model performance for Test set\n",
      "- Accuracy: 0.9296\n",
      "- F1 score: 0.9342\n",
      "- Precision: 0.9472\n",
      "- Recall: 0.9216\n",
      "- Roc Auc Score: 0.9304\n",
      "===================================\n",
      "\n",
      "Support Vector Classifier\n",
      "Model performance for Training set\n",
      "- Accuracy: 0.8716\n",
      "- F1 score: 0.8808\n",
      "- Precision: 0.8818\n",
      "- Recall: 0.8798\n",
      "- Roc Auc Score: 0.8709\n",
      "----------------------------------\n",
      "Model performance for Test set\n",
      "- Accuracy: 0.8701\n",
      "- F1 score: 0.8802\n",
      "- Precision: 0.8800\n",
      "- Recall: 0.8805\n",
      "- Roc Auc Score: 0.8691\n",
      "===================================\n",
      "\n",
      "AdaBoost Classifier\n",
      "Model performance for Training set\n",
      "- Accuracy: 0.8539\n",
      "- F1 score: 0.8636\n",
      "- Precision: 0.8696\n",
      "- Recall: 0.8576\n",
      "- Roc Auc Score: 0.8535\n",
      "----------------------------------\n",
      "Model performance for Test set\n",
      "- Accuracy: 0.8683\n",
      "- F1 score: 0.8774\n",
      "- Precision: 0.8863\n",
      "- Recall: 0.8686\n",
      "- Roc Auc Score: 0.8683\n",
      "===================================\n"
     ]
    }
   ],
   "source": [
    "base_model_report =evaluate_models(X=X_res, y=y_res, models=models)"
   ]
  },
  {
   "cell_type": "markdown",
   "id": "8ac46818",
   "metadata": {
    "id": "8ac46818"
   },
   "source": [
    "**Results of All Models**"
   ]
  },
  {
   "cell_type": "code",
   "execution_count": 41,
   "id": "fd686f5e",
   "metadata": {
    "id": "fd686f5e",
    "outputId": "bf5b1cc5-5eab-4a63-c765-0a23cdc94ab0",
    "ExecuteTime": {
     "end_time": "2024-02-26T15:44:15.257543Z",
     "start_time": "2024-02-26T15:44:15.193727Z"
    }
   },
   "outputs": [
    {
     "data": {
      "text/plain": "                  Model Name  Accuracy\n0              Random Forest  0.953959\n4     K-Neighbors Classifier  0.940176\n5              XGBClassifier  0.935191\n6     CatBoosting Classifier  0.929619\n1              Decision Tree  0.929326\n2          Gradient Boosting  0.895601\n7  Support Vector Classifier  0.870088\n8        AdaBoost Classifier  0.868328\n3        Logistic Regression  0.745161",
      "text/html": "<div>\n<style scoped>\n    .dataframe tbody tr th:only-of-type {\n        vertical-align: middle;\n    }\n\n    .dataframe tbody tr th {\n        vertical-align: top;\n    }\n\n    .dataframe thead th {\n        text-align: right;\n    }\n</style>\n<table border=\"1\" class=\"dataframe\">\n  <thead>\n    <tr style=\"text-align: right;\">\n      <th></th>\n      <th>Model Name</th>\n      <th>Accuracy</th>\n    </tr>\n  </thead>\n  <tbody>\n    <tr>\n      <th>0</th>\n      <td>Random Forest</td>\n      <td>0.953959</td>\n    </tr>\n    <tr>\n      <th>4</th>\n      <td>K-Neighbors Classifier</td>\n      <td>0.940176</td>\n    </tr>\n    <tr>\n      <th>5</th>\n      <td>XGBClassifier</td>\n      <td>0.935191</td>\n    </tr>\n    <tr>\n      <th>6</th>\n      <td>CatBoosting Classifier</td>\n      <td>0.929619</td>\n    </tr>\n    <tr>\n      <th>1</th>\n      <td>Decision Tree</td>\n      <td>0.929326</td>\n    </tr>\n    <tr>\n      <th>2</th>\n      <td>Gradient Boosting</td>\n      <td>0.895601</td>\n    </tr>\n    <tr>\n      <th>7</th>\n      <td>Support Vector Classifier</td>\n      <td>0.870088</td>\n    </tr>\n    <tr>\n      <th>8</th>\n      <td>AdaBoost Classifier</td>\n      <td>0.868328</td>\n    </tr>\n    <tr>\n      <th>3</th>\n      <td>Logistic Regression</td>\n      <td>0.745161</td>\n    </tr>\n  </tbody>\n</table>\n</div>"
     },
     "execution_count": 41,
     "metadata": {},
     "output_type": "execute_result"
    }
   ],
   "source": [
    "base_model_report"
   ]
  },
  {
   "cell_type": "markdown",
   "id": "f3534db9",
   "metadata": {
    "id": "f3534db9"
   },
   "source": [
    "**Here we can use Random Forest for Hyper Parameter Tuning**"
   ]
  },
  {
   "cell_type": "markdown",
   "id": "0b83fb1c",
   "metadata": {
    "id": "0b83fb1c"
   },
   "source": [
    "**Define the parameter distribution for Random forest**"
   ]
  },
  {
   "cell_type": "code",
   "execution_count": 42,
   "id": "893c4b00",
   "metadata": {
    "id": "893c4b00",
    "ExecuteTime": {
     "end_time": "2024-02-26T15:44:48.538509Z",
     "start_time": "2024-02-26T15:44:48.481229Z"
    }
   },
   "outputs": [],
   "source": [
    "#Initialize few parameter for Hyperparamter tuning\n",
    "xgboost_params = {\n",
    "    'max_depth':range(3,10,2),\n",
    "    'min_child_weight':range(1,6,2)\n",
    "}\n",
    "\n",
    "rf_params = {\n",
    "    \"max_depth\": [10, 12, None, 15, 20],\n",
    "    \"max_features\": ['sqrt', 'log2', None],\n",
    "    \"n_estimators\": [10, 50, 100, 200]\n",
    "}\n",
    "\n",
    "knn_params = {\n",
    "    \"algorithm\": ['auto', 'ball_tree', 'kd_tree','brute'],\n",
    "    \"weights\": ['uniform', 'distance'],\n",
    "    \"n_neighbors\": [3, 4, 5, 7, 9],\n",
    "}"
   ]
  },
  {
   "cell_type": "code",
   "execution_count": 43,
   "id": "9a57c5fd",
   "metadata": {
    "id": "9a57c5fd",
    "ExecuteTime": {
     "end_time": "2024-02-26T15:44:55.943493Z",
     "start_time": "2024-02-26T15:44:55.830740Z"
    }
   },
   "outputs": [],
   "source": [
    "# Models list for Hyperparameter tuning\n",
    "randomcv_models = [\n",
    "    ('XGBoost', XGBClassifier(), xgboost_params),\n",
    "    (\"RF\", RandomForestClassifier(), rf_params),\n",
    "    (\"KNN\", KNeighborsClassifier(), knn_params)\n",
    "]"
   ]
  },
  {
   "cell_type": "markdown",
   "id": "723dea97",
   "metadata": {
    "id": "723dea97"
   },
   "source": [
    "**Create a function for model training and report which can be used in hyperparameter tuning loop**"
   ]
  },
  {
   "cell_type": "code",
   "execution_count": 44,
   "id": "0dc8830b",
   "metadata": {
    "id": "0dc8830b",
    "outputId": "7d73c308-88a2-41c6-a678-62f49819e41b",
    "ExecuteTime": {
     "end_time": "2024-02-26T15:54:29.304697Z",
     "start_time": "2024-02-26T15:45:55.903021Z"
    }
   },
   "outputs": [
    {
     "name": "stdout",
     "output_type": "stream",
     "text": [
      "Fitting 3 folds for each of 12 candidates, totalling 36 fits\n",
      "Fitting 3 folds for each of 60 candidates, totalling 180 fits\n",
      "Fitting 3 folds for each of 40 candidates, totalling 120 fits\n",
      "---------------- Best Params for XGBoost -------------------\n",
      "{'min_child_weight': 1, 'max_depth': 9}\n",
      "---------------- Best Params for RF -------------------\n",
      "{'n_estimators': 200, 'max_features': 'sqrt', 'max_depth': None}\n",
      "---------------- Best Params for KNN -------------------\n",
      "{'weights': 'distance', 'n_neighbors': 4, 'algorithm': 'auto'}\n"
     ]
    }
   ],
   "source": [
    "from sklearn.model_selection import RandomizedSearchCV\n",
    "\n",
    "model_param = {}\n",
    "for name, model, params in randomcv_models:\n",
    "    random = RandomizedSearchCV(estimator=model,\n",
    "                                   param_distributions=params,\n",
    "                                   n_iter=100,\n",
    "                                   cv=3,\n",
    "                                   verbose=2, \n",
    "                                   n_jobs=-1)\n",
    "    random.fit(X_res, y_res)\n",
    "    model_param[name] = random.best_params_\n",
    "\n",
    "for model_name in model_param:\n",
    "    print(f\"---------------- Best Params for {model_name} -------------------\")\n",
    "    print(model_param[model_name])"
   ]
  },
  {
   "cell_type": "code",
   "execution_count": 45,
   "id": "83b5de27",
   "metadata": {
    "ExecuteTime": {
     "end_time": "2024-02-26T15:54:29.377418Z",
     "start_time": "2024-02-26T15:54:29.322928Z"
    }
   },
   "outputs": [
    {
     "data": {
      "text/plain": "{'XGBoost': {'min_child_weight': 1, 'max_depth': 9},\n 'RF': {'n_estimators': 200, 'max_features': 'sqrt', 'max_depth': None},\n 'KNN': {'weights': 'distance', 'n_neighbors': 4, 'algorithm': 'auto'}}"
     },
     "execution_count": 45,
     "metadata": {},
     "output_type": "execute_result"
    }
   ],
   "source": [
    "model_param"
   ]
  },
  {
   "cell_type": "markdown",
   "id": "616ebc0a",
   "metadata": {
    "id": "616ebc0a"
   },
   "source": [
    "## Retraining the Model with best Parameters"
   ]
  },
  {
   "cell_type": "code",
   "execution_count": 46,
   "id": "5738ae2c",
   "metadata": {
    "id": "5738ae2c",
    "outputId": "25600fb4-c963-4bf7-ba2c-d02cf4d5962e",
    "ExecuteTime": {
     "end_time": "2024-02-26T15:55:41.024665Z",
     "start_time": "2024-02-26T15:55:01.879690Z"
    }
   },
   "outputs": [
    {
     "name": "stdout",
     "output_type": "stream",
     "text": [
      "Random Forest Classifier\n",
      "Model performance for Training set\n",
      "- Accuracy: 1.0000\n",
      "- F1 score: 1.0000\n",
      "- Precision: 1.0000\n",
      "- Recall: 1.0000\n",
      "- Roc Auc Score: 1.0000\n",
      "----------------------------------\n",
      "Model performance for Test set\n",
      "- Accuracy: 0.9569\n",
      "- F1 score: 0.9603\n",
      "- Precision: 0.9580\n",
      "- Recall: 0.9627\n",
      "- Roc Auc Score: 0.9564\n",
      "===================================\n",
      "\n",
      "KNeighborsClassifier\n",
      "Model performance for Training set\n",
      "- Accuracy: 1.0000\n",
      "- F1 score: 1.0000\n",
      "- Precision: 1.0000\n",
      "- Recall: 1.0000\n",
      "- Roc Auc Score: 1.0000\n",
      "----------------------------------\n",
      "Model performance for Test set\n",
      "- Accuracy: 0.9733\n",
      "- F1 score: 0.9757\n",
      "- Precision: 0.9651\n",
      "- Recall: 0.9865\n",
      "- Roc Auc Score: 0.9721\n",
      "===================================\n",
      "\n",
      "XGBClassifier\n",
      "Model performance for Training set\n",
      "- Accuracy: 0.9995\n",
      "- F1 score: 0.9995\n",
      "- Precision: 0.9993\n",
      "- Recall: 0.9997\n",
      "- Roc Auc Score: 0.9995\n",
      "----------------------------------\n",
      "Model performance for Test set\n",
      "- Accuracy: 0.9455\n",
      "- F1 score: 0.9498\n",
      "- Precision: 0.9487\n",
      "- Recall: 0.9508\n",
      "- Roc Auc Score: 0.9450\n",
      "===================================\n"
     ]
    }
   ],
   "source": [
    "from sklearn.metrics import roc_auc_score,roc_curve\n",
    "best_models = {\n",
    "    \"Random Forest Classifier\": RandomForestClassifier(**model_param['RF']),\n",
    "    \"KNeighborsClassifier\": KNeighborsClassifier(**model_param['KNN']),\n",
    "    \"XGBClassifier\": XGBClassifier(**model_param['XGBoost'],n_jobs=-1),\n",
    "}\n",
    "tuned_report =evaluate_models(X=X_res, y=y_res, models=best_models)"
   ]
  },
  {
   "cell_type": "code",
   "execution_count": 47,
   "id": "3ebcc3e2",
   "metadata": {
    "id": "3ebcc3e2",
    "outputId": "870a295b-85c5-4204-cb8f-178bc6ccd9a6",
    "ExecuteTime": {
     "end_time": "2024-02-26T15:55:41.110671Z",
     "start_time": "2024-02-26T15:55:41.026456Z"
    }
   },
   "outputs": [
    {
     "data": {
      "text/plain": "                 Model Name  Accuracy\n1      KNeighborsClassifier  0.973314\n0  Random Forest Classifier  0.956891\n2             XGBClassifier  0.945455",
      "text/html": "<div>\n<style scoped>\n    .dataframe tbody tr th:only-of-type {\n        vertical-align: middle;\n    }\n\n    .dataframe tbody tr th {\n        vertical-align: top;\n    }\n\n    .dataframe thead th {\n        text-align: right;\n    }\n</style>\n<table border=\"1\" class=\"dataframe\">\n  <thead>\n    <tr style=\"text-align: right;\">\n      <th></th>\n      <th>Model Name</th>\n      <th>Accuracy</th>\n    </tr>\n  </thead>\n  <tbody>\n    <tr>\n      <th>1</th>\n      <td>KNeighborsClassifier</td>\n      <td>0.973314</td>\n    </tr>\n    <tr>\n      <th>0</th>\n      <td>Random Forest Classifier</td>\n      <td>0.956891</td>\n    </tr>\n    <tr>\n      <th>2</th>\n      <td>XGBClassifier</td>\n      <td>0.945455</td>\n    </tr>\n  </tbody>\n</table>\n</div>"
     },
     "execution_count": 47,
     "metadata": {},
     "output_type": "execute_result"
    }
   ],
   "source": [
    "tuned_report"
   ]
  },
  {
   "cell_type": "code",
   "execution_count": 48,
   "id": "a4beb9bb",
   "metadata": {
    "id": "a4beb9bb",
    "outputId": "fde92afe-af72-428a-e4d9-d44a094b28ad",
    "ExecuteTime": {
     "end_time": "2024-02-26T15:55:52.958608Z",
     "start_time": "2024-02-26T15:55:52.229380Z"
    }
   },
   "outputs": [
    {
     "name": "stdout",
     "output_type": "stream",
     "text": [
      "FINAL MODEL 'KNN'\n",
      "Accuracy Score value: 0.9733\n",
      "              precision    recall  f1-score   support\n",
      "\n",
      "           0       0.98      0.96      0.97      1561\n",
      "           1       0.97      0.99      0.98      1849\n",
      "\n",
      "    accuracy                           0.97      3410\n",
      "   macro avg       0.97      0.97      0.97      3410\n",
      "weighted avg       0.97      0.97      0.97      3410\n"
     ]
    }
   ],
   "source": [
    "best_model = KNeighborsClassifier(**model_param['KNN'])\n",
    "best_model = best_model.fit(X_train,y_train)\n",
    "y_pred = best_model.predict(X_test)\n",
    "score = accuracy_score(y_test,y_pred)\n",
    "cr = classification_report(y_test,y_pred)\n",
    "\n",
    "print(\"FINAL MODEL 'KNN'\")\n",
    "print (\"Accuracy Score value: {:.4f}\".format(score))\n",
    "print (cr)"
   ]
  },
  {
   "cell_type": "code",
   "execution_count": 49,
   "id": "8bd89efe",
   "metadata": {
    "id": "8bd89efe",
    "outputId": "3078255a-0670-492a-8d4a-ab6aa891ef2f",
    "ExecuteTime": {
     "end_time": "2024-02-26T15:56:17.407260Z",
     "start_time": "2024-02-26T15:56:15.934785Z"
    }
   },
   "outputs": [
    {
     "data": {
      "text/plain": "<sklearn.metrics._plot.confusion_matrix.ConfusionMatrixDisplay at 0x1293ab9a0>"
     },
     "execution_count": 49,
     "metadata": {},
     "output_type": "execute_result"
    },
    {
     "data": {
      "text/plain": "<Figure size 640x480 with 2 Axes>",
      "image/png": "[encoded data removed]"
     },
     "metadata": {},
     "output_type": "display_data"
    }
   ],
   "source": [
    "from sklearn.metrics import ConfusionMatrixDisplay\n",
    "ConfusionMatrixDisplay.from_estimator(best_model, X_test, y_test)"
   ]
  },
  {
   "cell_type": "markdown",
   "id": "84d34671",
   "metadata": {
    "id": "84d34671"
   },
   "source": [
    "## Best Model is K-Nearest Neighbor(KNN) with Accuracy 96.66%"
   ]
  },
  {
   "cell_type": "code",
   "outputs": [],
   "source": [],
   "metadata": {
    "collapsed": false
   },
   "id": "8b8e0d69299766d0"
  }
 ],
 "metadata": {
  "colab": {
   "provenance": []
  },
  "kernelspec": {
   "display_name": "Python 3",
   "language": "python",
   "name": "python3"
  },
  "language_info": {
   "codemirror_mode": {
    "name": "ipython",
    "version": 3
   },
   "file_extension": ".py",
   "mimetype": "text/x-python",
   "name": "python",
   "nbconvert_exporter": "python",
   "pygments_lexer": "ipython3",
   "version": "3.9.18"
  },
  "vscode": {
   "interpreter": {
    "hash": "e6422fc631fadc7a14dbe43d10d544a88c5583408f68c588bbe9704b9c540dab"
   }
  }
 },
 "nbformat": 4,
 "nbformat_minor": 5
}
